{
 "cells": [
  {
   "cell_type": "code",
   "execution_count": 1,
   "id": "3c8ef710-48e1-4c32-9caa-7fbf4a198c47",
   "metadata": {},
   "outputs": [],
   "source": [
    "import pandas as pd"
   ]
  },
  {
   "cell_type": "code",
   "execution_count": 2,
   "id": "0ab0abce-cc2c-4e24-aced-d5ec024db58b",
   "metadata": {},
   "outputs": [],
   "source": [
    "#Import the Excel file and sheet and store it in sales_df\n",
    "sales_df = pd.read_excel('Onyx Data -DataDNA Dataset Challenge - Christmas Sales and Trends - December 2023.xlsx', sheet_name='Onyx Data -DataDNA Dataset Chal')"
   ]
  },
  {
   "cell_type": "code",
   "execution_count": 3,
   "id": "77508806-4fdd-4193-9113-f91d9ba8a28f",
   "metadata": {},
   "outputs": [
    {
     "data": {
      "text/html": [
       "<div>\n",
       "<style scoped>\n",
       "    .dataframe tbody tr th:only-of-type {\n",
       "        vertical-align: middle;\n",
       "    }\n",
       "\n",
       "    .dataframe tbody tr th {\n",
       "        vertical-align: top;\n",
       "    }\n",
       "\n",
       "    .dataframe thead th {\n",
       "        text-align: right;\n",
       "    }\n",
       "</style>\n",
       "<table border=\"1\" class=\"dataframe\">\n",
       "  <thead>\n",
       "    <tr style=\"text-align: right;\">\n",
       "      <th></th>\n",
       "      <th>TransactionID</th>\n",
       "      <th>Date</th>\n",
       "      <th>Time</th>\n",
       "      <th>CustomerID</th>\n",
       "      <th>Age</th>\n",
       "      <th>Gender</th>\n",
       "      <th>Location</th>\n",
       "      <th>StoreID</th>\n",
       "      <th>OnlineOrderFlag</th>\n",
       "      <th>ProductID</th>\n",
       "      <th>...</th>\n",
       "      <th>PaymentType</th>\n",
       "      <th>PromotionApplied</th>\n",
       "      <th>DiscountAmount</th>\n",
       "      <th>GiftWrap</th>\n",
       "      <th>ShippingMethod</th>\n",
       "      <th>DeliveryTime</th>\n",
       "      <th>Weather</th>\n",
       "      <th>Event</th>\n",
       "      <th>CustomerSatisfaction</th>\n",
       "      <th>ReturnFlag</th>\n",
       "    </tr>\n",
       "  </thead>\n",
       "  <tbody>\n",
       "    <tr>\n",
       "      <th>0</th>\n",
       "      <td>1</td>\n",
       "      <td>2020-12-24</td>\n",
       "      <td>07:27:59</td>\n",
       "      <td>441</td>\n",
       "      <td>27</td>\n",
       "      <td>Other</td>\n",
       "      <td>City_15</td>\n",
       "      <td>NaN</td>\n",
       "      <td>True</td>\n",
       "      <td>106</td>\n",
       "      <td>...</td>\n",
       "      <td>Credit Card</td>\n",
       "      <td>False</td>\n",
       "      <td>0.0</td>\n",
       "      <td>False</td>\n",
       "      <td>Standard</td>\n",
       "      <td>5.0</td>\n",
       "      <td>Snowy</td>\n",
       "      <td>NaN</td>\n",
       "      <td>5</td>\n",
       "      <td>False</td>\n",
       "    </tr>\n",
       "    <tr>\n",
       "      <th>1</th>\n",
       "      <td>2</td>\n",
       "      <td>2022-11-18</td>\n",
       "      <td>14:36:39</td>\n",
       "      <td>340</td>\n",
       "      <td>43</td>\n",
       "      <td>Male</td>\n",
       "      <td>City_13</td>\n",
       "      <td>NaN</td>\n",
       "      <td>True</td>\n",
       "      <td>816</td>\n",
       "      <td>...</td>\n",
       "      <td>Credit Card</td>\n",
       "      <td>True</td>\n",
       "      <td>0.0</td>\n",
       "      <td>True</td>\n",
       "      <td>Express</td>\n",
       "      <td>3.0</td>\n",
       "      <td>Sunny</td>\n",
       "      <td>NaN</td>\n",
       "      <td>2</td>\n",
       "      <td>True</td>\n",
       "    </tr>\n",
       "    <tr>\n",
       "      <th>2</th>\n",
       "      <td>3</td>\n",
       "      <td>2019-12-26</td>\n",
       "      <td>20:23:50</td>\n",
       "      <td>31</td>\n",
       "      <td>25</td>\n",
       "      <td>Other</td>\n",
       "      <td>City_7</td>\n",
       "      <td>92.0</td>\n",
       "      <td>False</td>\n",
       "      <td>508</td>\n",
       "      <td>...</td>\n",
       "      <td>Credit Card</td>\n",
       "      <td>False</td>\n",
       "      <td>0.0</td>\n",
       "      <td>False</td>\n",
       "      <td>NaN</td>\n",
       "      <td>NaN</td>\n",
       "      <td>Rainy</td>\n",
       "      <td>Christmas Market</td>\n",
       "      <td>4</td>\n",
       "      <td>False</td>\n",
       "    </tr>\n",
       "    <tr>\n",
       "      <th>3</th>\n",
       "      <td>4</td>\n",
       "      <td>2018-11-13</td>\n",
       "      <td>23:08:08</td>\n",
       "      <td>39</td>\n",
       "      <td>64</td>\n",
       "      <td>Male</td>\n",
       "      <td>City_20</td>\n",
       "      <td>100.0</td>\n",
       "      <td>False</td>\n",
       "      <td>710</td>\n",
       "      <td>...</td>\n",
       "      <td>Debit Card</td>\n",
       "      <td>False</td>\n",
       "      <td>0.0</td>\n",
       "      <td>True</td>\n",
       "      <td>NaN</td>\n",
       "      <td>NaN</td>\n",
       "      <td>Rainy</td>\n",
       "      <td>NaN</td>\n",
       "      <td>1</td>\n",
       "      <td>True</td>\n",
       "    </tr>\n",
       "    <tr>\n",
       "      <th>4</th>\n",
       "      <td>5</td>\n",
       "      <td>2020-12-13</td>\n",
       "      <td>04:38:08</td>\n",
       "      <td>344</td>\n",
       "      <td>26</td>\n",
       "      <td>Other</td>\n",
       "      <td>City_10</td>\n",
       "      <td>90.0</td>\n",
       "      <td>False</td>\n",
       "      <td>687</td>\n",
       "      <td>...</td>\n",
       "      <td>Cash</td>\n",
       "      <td>False</td>\n",
       "      <td>0.0</td>\n",
       "      <td>True</td>\n",
       "      <td>NaN</td>\n",
       "      <td>NaN</td>\n",
       "      <td>Sunny</td>\n",
       "      <td>Christmas Market</td>\n",
       "      <td>4</td>\n",
       "      <td>False</td>\n",
       "    </tr>\n",
       "  </tbody>\n",
       "</table>\n",
       "<p>5 rows × 25 columns</p>\n",
       "</div>"
      ],
      "text/plain": [
       "   TransactionID       Date      Time  CustomerID  Age Gender Location  \\\n",
       "0              1 2020-12-24  07:27:59         441   27  Other  City_15   \n",
       "1              2 2022-11-18  14:36:39         340   43   Male  City_13   \n",
       "2              3 2019-12-26  20:23:50          31   25  Other   City_7   \n",
       "3              4 2018-11-13  23:08:08          39   64   Male  City_20   \n",
       "4              5 2020-12-13  04:38:08         344   26  Other  City_10   \n",
       "\n",
       "   StoreID  OnlineOrderFlag  ProductID  ...  PaymentType PromotionApplied  \\\n",
       "0      NaN             True        106  ...  Credit Card            False   \n",
       "1      NaN             True        816  ...  Credit Card             True   \n",
       "2     92.0            False        508  ...  Credit Card            False   \n",
       "3    100.0            False        710  ...   Debit Card            False   \n",
       "4     90.0            False        687  ...         Cash            False   \n",
       "\n",
       "   DiscountAmount  GiftWrap  ShippingMethod DeliveryTime  Weather  \\\n",
       "0             0.0     False        Standard          5.0    Snowy   \n",
       "1             0.0      True         Express          3.0    Sunny   \n",
       "2             0.0     False             NaN          NaN    Rainy   \n",
       "3             0.0      True             NaN          NaN    Rainy   \n",
       "4             0.0      True             NaN          NaN    Sunny   \n",
       "\n",
       "              Event  CustomerSatisfaction ReturnFlag  \n",
       "0               NaN                     5      False  \n",
       "1               NaN                     2       True  \n",
       "2  Christmas Market                     4      False  \n",
       "3               NaN                     1       True  \n",
       "4  Christmas Market                     4      False  \n",
       "\n",
       "[5 rows x 25 columns]"
      ]
     },
     "execution_count": 3,
     "metadata": {},
     "output_type": "execute_result"
    }
   ],
   "source": [
    "#Print first 5 rows\n",
    "sales_df.head()"
   ]
  },
  {
   "cell_type": "code",
   "execution_count": 4,
   "id": "ac1b17ce-edb1-4471-92f0-201fc8e42017",
   "metadata": {},
   "outputs": [
    {
     "name": "stdout",
     "output_type": "stream",
     "text": [
      "<class 'pandas.core.frame.DataFrame'>\n",
      "RangeIndex: 10000 entries, 0 to 9999\n",
      "Data columns (total 25 columns):\n",
      " #   Column                Non-Null Count  Dtype         \n",
      "---  ------                --------------  -----         \n",
      " 0   TransactionID         10000 non-null  int64         \n",
      " 1   Date                  10000 non-null  datetime64[ns]\n",
      " 2   Time                  10000 non-null  object        \n",
      " 3   CustomerID            10000 non-null  int64         \n",
      " 4   Age                   10000 non-null  int64         \n",
      " 5   Gender                10000 non-null  object        \n",
      " 6   Location              10000 non-null  object        \n",
      " 7   StoreID               4582 non-null   float64       \n",
      " 8   OnlineOrderFlag       10000 non-null  bool          \n",
      " 9   ProductID             10000 non-null  int64         \n",
      " 10  ProductName           10000 non-null  object        \n",
      " 11  Category              10000 non-null  object        \n",
      " 12  Quantity              10000 non-null  int64         \n",
      " 13  UnitPrice             10000 non-null  float64       \n",
      " 14  TotalPrice            10000 non-null  float64       \n",
      " 15  PaymentType           10000 non-null  object        \n",
      " 16  PromotionApplied      10000 non-null  bool          \n",
      " 17  DiscountAmount        10000 non-null  float64       \n",
      " 18  GiftWrap              10000 non-null  bool          \n",
      " 19  ShippingMethod        5418 non-null   object        \n",
      " 20  DeliveryTime          5418 non-null   float64       \n",
      " 21  Weather               10000 non-null  object        \n",
      " 22  Event                 7162 non-null   object        \n",
      " 23  CustomerSatisfaction  10000 non-null  int64         \n",
      " 24  ReturnFlag            10000 non-null  bool          \n",
      "dtypes: bool(4), datetime64[ns](1), float64(5), int64(6), object(9)\n",
      "memory usage: 1.6+ MB\n"
     ]
    }
   ],
   "source": [
    "#explore the data\n",
    "sales_df.info()"
   ]
  },
  {
   "cell_type": "code",
   "execution_count": 5,
   "id": "013c20a7-eaaa-4b77-8eca-410c04314958",
   "metadata": {},
   "outputs": [
    {
     "data": {
      "text/plain": [
       "Index(['StoreID', 'ShippingMethod', 'DeliveryTime', 'Event'], dtype='object')"
      ]
     },
     "execution_count": 5,
     "metadata": {},
     "output_type": "execute_result"
    }
   ],
   "source": [
    "#check for null values\n",
    "null_columns = sales_df.columns[sales_df.isnull().any()]\n",
    "null_columns"
   ]
  },
  {
   "cell_type": "code",
   "execution_count": 6,
   "id": "c3b248e3-dd0f-4ba2-8b21-8abc294c8cdf",
   "metadata": {},
   "outputs": [],
   "source": [
    "#replace null values in store ID with 0\n",
    "sales_df = sales_df.fillna({'StoreID': 0})"
   ]
  },
  {
   "cell_type": "code",
   "execution_count": 7,
   "id": "6fb87386-e44d-4f58-b66f-0f58742baca9",
   "metadata": {},
   "outputs": [],
   "source": [
    "#replace null values in Shipping method with Unknown\n",
    "sales_df = sales_df.fillna({'ShippingMethod': 'Unknown'})"
   ]
  },
  {
   "cell_type": "code",
   "execution_count": 8,
   "id": "ab8c5b7f-eb25-4e31-8e38-3713d0b56dc6",
   "metadata": {},
   "outputs": [],
   "source": [
    "#replace null values in Delivery Time with Average Delivery Time\n",
    "sales_df = sales_df.fillna({'DeliveryTime': sales_df['DeliveryTime'].mean()})"
   ]
  },
  {
   "cell_type": "code",
   "execution_count": 9,
   "id": "3758fe92-7d4e-4af8-b7b7-e843acd6a405",
   "metadata": {},
   "outputs": [],
   "source": [
    "#replace null values in Event with None\n",
    "sales_df = sales_df.fillna({'Event': 'None'})"
   ]
  },
  {
   "cell_type": "code",
   "execution_count": 10,
   "id": "d5da59b6-0f20-4db5-85f2-804d162eaa26",
   "metadata": {},
   "outputs": [
    {
     "name": "stdout",
     "output_type": "stream",
     "text": [
      "Empty DataFrame\n",
      "Columns: [TransactionID, Date, Time, CustomerID, Age, Gender, Location, StoreID, OnlineOrderFlag, ProductID, ProductName, Category, Quantity, UnitPrice, TotalPrice, PaymentType, PromotionApplied, DiscountAmount, GiftWrap, ShippingMethod, DeliveryTime, Weather, Event, CustomerSatisfaction, ReturnFlag]\n",
      "Index: []\n",
      "\n",
      "[0 rows x 25 columns]\n"
     ]
    }
   ],
   "source": [
    "#check for duplicated values\n",
    "duplicated_rows = sales_df.duplicated()\n",
    "print(sales_df[duplicated_rows])"
   ]
  },
  {
   "cell_type": "code",
   "execution_count": 12,
   "id": "2624f904-e0ea-4e91-af01-cc8eca30549c",
   "metadata": {},
   "outputs": [],
   "source": [
    "#export the cleaned data frame to a new csv\n",
    "sales_df.to_csv('Sales_data_cleaned.csv')"
   ]
  },
  {
   "cell_type": "code",
   "execution_count": null,
   "id": "443b784e-1fd2-4394-a6c4-402f560dc49f",
   "metadata": {},
   "outputs": [],
   "source": []
  }
 ],
 "metadata": {
  "kernelspec": {
   "display_name": "Python 3 (ipykernel)",
   "language": "python",
   "name": "python3"
  },
  "language_info": {
   "codemirror_mode": {
    "name": "ipython",
    "version": 3
   },
   "file_extension": ".py",
   "mimetype": "text/x-python",
   "name": "python",
   "nbconvert_exporter": "python",
   "pygments_lexer": "ipython3",
   "version": "3.11.0"
  }
 },
 "nbformat": 4,
 "nbformat_minor": 5
}
